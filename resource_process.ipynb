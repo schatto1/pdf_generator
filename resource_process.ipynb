{
 "cells": [
  {
   "cell_type": "code",
   "execution_count": 108,
   "id": "efc5ac2f",
   "metadata": {},
   "outputs": [],
   "source": [
    "# Read in Excel file using Pandas\n",
    "import pandas as pd\n",
    "import unicodedata\n",
    "\n",
    "df = pd.read_excel('./wellu_resources_practice_format.xlsx')"
   ]
  },
  {
   "cell_type": "code",
   "execution_count": 109,
   "id": "e68e8502",
   "metadata": {},
   "outputs": [],
   "source": [
    "def normalize_text(text):\n",
    "    # Replace smart apostrophes with straight ones.\n",
    "    normalized = unicodedata.normalize('NFKD', text)\n",
    "    normalized = normalized.replace(\"\\u2019\", \"'\")  # Add other replacements as needed.\n",
    "    normalized = normalized.replace(\"\\u2014\", \"-\")  # Replace em dash with hyphen\n",
    "    normalized = normalized.replace(\"\\u2013\", \"-\")  # Replace en dash with hyphen\n",
    "    return normalized"
   ]
  },
  {
   "cell_type": "code",
   "execution_count": 110,
   "id": "1fa85085",
   "metadata": {},
   "outputs": [],
   "source": [
    "# Print first 20 rows\n",
    "df.head(20)\n",
    "\n",
    "# Replace all nan values with empty strings\n",
    "df.fillna('', inplace=True)\n",
    "# Normalize text in specific columns\n",
    "df['Resource Name'] = df['Resource Name'].apply(normalize_text)\n",
    "df['Resource Link'] = df['Resource Link'].apply(normalize_text)\n",
    "df['PDF Box Verbiage'] = df['PDF Box Verbiage'].apply(normalize_text)\n",
    "df['Full Verbiage'] = df['Full Verbiage'].apply(normalize_text)"
   ]
  },
  {
   "cell_type": "code",
   "execution_count": 111,
   "id": "d1b206e3",
   "metadata": {},
   "outputs": [],
   "source": [
    "# Loop through the DataFrame and create the desired structure\n",
    "resources = {}\n",
    "for index, row in df.iterrows():\n",
    "    resource_key = '{}_{}'.format(row[\"Field\"], row[\"Choice\"])\n",
    "    resource_content = {\n",
    "        \"name\": row[\"Resource Name\"],\n",
    "        \"link\": row[\"Resource Link\"] if row[\"Resource Link\"] else None,\n",
    "        \"pdf_box\": row[\"PDF Box Verbiage\"] if row[\"PDF Box Verbiage\"] else None,\n",
    "        \"full\": []\n",
    "    }\n",
    "    full_verbiage = row[\"Full Verbiage\"]\n",
    "    if type(full_verbiage) != str:\n",
    "        continue\n",
    "    else:\n",
    "        full_verbiage = full_verbiage.split(\"\\n\")\n",
    "        for verb in full_verbiage:\n",
    "            verb = verb.strip()\n",
    "            t = \"paragraph\"\n",
    "            if len(verb) == 0:\n",
    "                continue\n",
    "            elif verb[0] == \"-\":\n",
    "                t = \"bullet\"\n",
    "            resource_content[\"full\"].append({\"type\": t, \"text\": verb})\n",
    "    resources[resource_key] = resource_content"
   ]
  },
  {
   "cell_type": "code",
   "execution_count": 112,
   "id": "dcf5e4b5",
   "metadata": {},
   "outputs": [],
   "source": [
    "# Write the resources to a JSON file\n",
    "import json\n",
    "with open('./resources/resources.json', 'w') as f:\n",
    "    json.dump(resources, f, indent=4)"
   ]
  }
 ],
 "metadata": {
  "kernelspec": {
   "display_name": ".env",
   "language": "python",
   "name": "python3"
  },
  "language_info": {
   "codemirror_mode": {
    "name": "ipython",
    "version": 3
   },
   "file_extension": ".py",
   "mimetype": "text/x-python",
   "name": "python",
   "nbconvert_exporter": "python",
   "pygments_lexer": "ipython3",
   "version": "3.13.3"
  }
 },
 "nbformat": 4,
 "nbformat_minor": 5
}
